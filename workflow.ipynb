{
 "cells": [
  {
   "cell_type": "code",
   "execution_count": null,
   "id": "6207edb9-c090-4c71-a7d2-949e5867219d",
   "metadata": {},
   "outputs": [],
   "source": [
    "%%script false --no-raise-error\n",
    "%%capture\n",
    "# Install pip packages in the current Jupyter kernel\n",
    "# %%script false --no-raise-error (above) disables the cell.\n",
    "# %%capture (above) suppresses output.\n",
    "import sys\n",
    "!{sys.executable} -m pip install poetry\n",
    "!{sys.executable} -m pip install jupyterlab-widgets\n",
    "!{sys.executable} -m pip install -r requirements.txt"
   ]
  },
  {
   "cell_type": "code",
   "execution_count": null,
   "id": "77e5ff96-fed8-47ce-b703-806121715014",
   "metadata": {},
   "outputs": [],
   "source": [
    "# Sanity check that we are in the right folder\n",
    "import os\n",
    "print(os.getcwd())"
   ]
  },
  {
   "cell_type": "code",
   "execution_count": null,
   "id": "2d1a6375-58aa-47d4-8644-e8423c0451f5",
   "metadata": {},
   "outputs": [],
   "source": [
    "import ipywidgets\n",
    "from IPython.display import display\n",
    "from parsing.string_to_program import string_to_program\n",
    "from parsing.string_to_ltl import string_to_ltl\n",
    "from programs.synthesis.synthesis import synthesize, setup_synthesis\n",
    "# from parsing import setup_synthesis\n",
    "#from strix.strix_adapter import syfco_ltl, syfco_ltl_in, syfco_ltl_out"
   ]
  },
  {
   "cell_type": "code",
   "execution_count": null,
   "id": "6aa3848b-3343-43d0-be7d-e57b3e6eb002",
   "metadata": {},
   "outputs": [],
   "source": [
    "# Todo: make FileUpload work\n",
    "# program_path = input().strip()\n",
    "program_path = \"examples/parallel/arbiter/program.prog\""
   ]
  },
  {
   "cell_type": "code",
   "execution_count": null,
   "id": "25b37f99-df61-4ada-9b4f-c0fc312dbe94",
   "metadata": {},
   "outputs": [],
   "source": [
    "# Todo: make FileUpload work\n",
    "# tlsf_path = input().strip()\n",
    "tlsf_path = \"examples/parallel/arbiter/controller.tlsf\""
   ]
  },
  {
   "cell_type": "code",
   "execution_count": null,
   "id": "78f4fc51-8619-455b-99e6-a96309cd5beb",
   "metadata": {
    "tags": []
   },
   "outputs": [],
   "source": [
    "# Example FileUpload code (not working right now)\n",
    "# uploader = ipywidgets.FileUpload(\n",
    "#     accept='',  # Accepted file extension e.g. '.txt', '.pdf', 'image/*', 'image/*,.pdf'\n",
    "#     multiple=False  # True to accept multiple files upload else False\n",
    "# )\n",
    "# display(uploader)"
   ]
  },
  {
   "cell_type": "code",
   "execution_count": null,
   "id": "096d3414-506f-488e-98eb-767602bdd862",
   "metadata": {},
   "outputs": [],
   "source": [
    "date_file = open(program_path, \"r\").read()\n",
    "date = string_to_program(date_file)\n",
    "ltl_assumptions, ltl_guarantees, in_acts, out_acts = setup_synthesis(date, None, tlsf_path)"
   ]
  }
 ],
 "metadata": {
  "kernelspec": {
   "display_name": "Python 3 (ipykernel)",
   "language": "python",
   "name": "python3"
  },
  "language_info": {
   "codemirror_mode": {
    "name": "ipython",
    "version": 3
   },
   "file_extension": ".py",
   "mimetype": "text/x-python",
   "name": "python",
   "nbconvert_exporter": "python",
   "pygments_lexer": "ipython3",
   "version": "3.10.4"
  }
 },
 "nbformat": 4,
 "nbformat_minor": 5
}
