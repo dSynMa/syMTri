{
 "cells": [
  {
   "cell_type": "code",
   "execution_count": null,
   "id": "6207edb9-c090-4c71-a7d2-949e5867219d",
   "metadata": {},
   "outputs": [],
   "source": [
    "%%script false --no-raise-error\n",
    "%%capture\n",
    "# Install pip packages in the current Jupyter kernel\n",
    "# %%script false --no-raise-error (above) disables the cell.\n",
    "# %%capture (above) suppresses output.\n",
    "import sys\n",
    "!{sys.executable} -m pip install poetry\n",
    "!{sys.executable} -m pip install jupyterlab-widgets\n",
    "!{sys.executable} -m pip install -r requirements.txt"
   ]
  },
  {
   "cell_type": "code",
   "execution_count": null,
   "id": "2d1a6375-58aa-47d4-8644-e8423c0451f5",
   "metadata": {
    "tags": []
   },
   "outputs": [],
   "source": [
    "import codecs, os\n",
    "from tempfile import NamedTemporaryFile\n",
    "\n",
    "import ipywidgets\n",
    "from IPython.display import display\n",
    "\n",
    "from parsing.string_to_program import string_to_program\n",
    "from parsing.string_to_ltl import string_to_ltl\n",
    "from programs.synthesis.synthesis import synthesize, setup_synthesis, compute_abstraction\n",
    "# Sanity check that we are in the right folder\n",
    "print(os.getcwd())"
   ]
  },
  {
   "cell_type": "code",
   "execution_count": null,
   "id": "17799f6e-5da3-4049-9090-de6e5c346682",
   "metadata": {},
   "outputs": [],
   "source": [
    "EXAMPLES = {\n",
    "'parallel/arbiter': (\"examples/parallel/arbiter/program.prog\", \"examples/parallel/arbiter/controller.tlsf\"),\n",
    "'parallel/arbiter2': (\"examples/parallel/arbiter/program2.prog\", \"examples/parallel/arbiter/controller.tlsf\")\n",
    "}\n",
    "\n",
    "example_or_upload = ipywidgets.Dropdown(\n",
    "    options=[*EXAMPLES.keys(), 'None, upload files'],\n",
    "    value='parallel/arbiter',\n",
    "    # description='',\n",
    "    disabled=False,\n",
    ")\n",
    "prog_uploader = ipywidgets.FileUpload(\n",
    "    accept='.prog',  # Accepted file extension e.g. '.txt', '.pdf', 'image/*', 'image/*,.pdf'\n",
    "    multiple=False,  # True to accept multiple files upload else False,\n",
    "    description=\"Upload Program file (.prog)\",\n",
    "    layout={'width': 'max-content'}\n",
    ")\n",
    "tlsf_uploader = ipywidgets.FileUpload(\n",
    "    accept='.tlsf',  # Accepted file extension e.g. '.txt', '.pdf', 'image/*', 'image/*,.pdf'\n",
    "    multiple=False,  # True to accept multiple files upload else False,\n",
    "    description=\"Upload specification file (.tlsf)\",\n",
    "    layout={'width': 'max-content'}\n",
    ")\n",
    "upload_box = ipywidgets.HBox([prog_uploader, tlsf_uploader])\n",
    "\n",
    "# display(example_or_upload)\n",
    "stack_list = [ipywidgets.Label(\"\")] * len(EXAMPLES)\n",
    "stack_list.append(upload_box)\n",
    "stack = ipywidgets.Stack(stack_list, selected_index=0)\n",
    "ipywidgets.jslink((example_or_upload, 'index'), (stack, 'selected_index'))\n",
    "vbox = ipywidgets.VBox([example_or_upload, stack])\n",
    "display(ipywidgets.HTML(\"<h2>Choose an example or upload input files</h2>\"))\n",
    "display(vbox)"
   ]
  },
  {
   "cell_type": "code",
   "execution_count": null,
   "id": "81197346-6176-4c32-ae37-86503e9cd345",
   "metadata": {},
   "outputs": [],
   "source": [
    "if example_or_upload.value not in EXAMPLES:\n",
    "    if (prog_uploader.value == () or tlsf_uploader.value == ()):\n",
    "        display(ipywidgets.HTML(\"AAAAA\"))\n",
    "    else:\n",
    "        date_file = codecs.decode(prog_uploader.value[0].content, encoding=\"utf8\")\n",
    "        with NamedTemporaryFile('wb', suffix='.tlsf', delete=False) as tmp_tlsf:\n",
    "            tmp_tlsf.write(tlsf_uploader.value[0].content)\n",
    "            tlsf_path = tmp_tlsf.name\n",
    "else:\n",
    "    program_path, tlsf_path = EXAMPLES.get(example_or_upload.value, (None, None))\n",
    "    date_file = open(program_path, \"r\").read()"
   ]
  },
  {
   "cell_type": "code",
   "execution_count": null,
   "id": "096d3414-506f-488e-98eb-767602bdd862",
   "metadata": {},
   "outputs": [],
   "source": [
    "# Run this only once (or re-run to reset the synthesis loop)\n",
    "\n",
    "date = string_to_program(date_file)\n",
    "ltl_assumptions, ltl_guarantees, in_acts, out_acts = setup_synthesis(date, None, tlsf_path)\n",
    "state_predicates, transition_predicates = [], []"
   ]
  },
  {
   "cell_type": "code",
   "execution_count": null,
   "id": "eba0f29e-911f-4273-9614-1f97112b9d94",
   "metadata": {},
   "outputs": [],
   "source": [
    "step = compute_abstraction(date, ltl_assumptions, ltl_guarantees, in_acts, out_acts, '', state_predicates, transition_predicates, notebook=True)\n",
    "step[1].to_dot(step[2])"
   ]
  }
 ],
 "metadata": {
  "kernelspec": {
   "display_name": "Python 3 (ipykernel)",
   "language": "python",
   "name": "python3"
  },
  "language_info": {
   "codemirror_mode": {
    "name": "ipython",
    "version": 3
   },
   "file_extension": ".py",
   "mimetype": "text/x-python",
   "name": "python",
   "nbconvert_exporter": "python",
   "pygments_lexer": "ipython3",
   "version": "3.10.4"
  }
 },
 "nbformat": 4,
 "nbformat_minor": 5
}
