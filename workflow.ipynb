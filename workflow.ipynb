{
 "cells": [
  {
   "cell_type": "code",
   "execution_count": 1,
   "id": "6207edb9-c090-4c71-a7d2-949e5867219d",
   "metadata": {},
   "outputs": [],
   "source": [
    "%%script false --no-raise-error\n",
    "%%capture\n",
    "# Install pip packages in the current Jupyter kernel\n",
    "# %%script false --no-raise-error (above) disables the cell.\n",
    "# %%capture (above) suppresses output.\n",
    "import sys\n",
    "!{sys.executable} -m pip install poetry\n",
    "!{sys.executable} -m pip install jupyterlab-widgets\n",
    "!{sys.executable} -m pip install -r requirements.txt"
   ]
  },
  {
   "cell_type": "code",
   "execution_count": 2,
   "id": "77e5ff96-fed8-47ce-b703-806121715014",
   "metadata": {},
   "outputs": [
    {
     "name": "stdout",
     "output_type": "stream",
     "text": [
      "/home/luca/git/syMTri\n"
     ]
    }
   ],
   "source": [
    "# Sanity check that we are in the right folder\n",
    "import os\n",
    "print(os.getcwd())"
   ]
  },
  {
   "cell_type": "code",
   "execution_count": 3,
   "id": "2d1a6375-58aa-47d4-8644-e8423c0451f5",
   "metadata": {},
   "outputs": [],
   "source": [
    "import ipywidgets\n",
    "from IPython.display import display\n",
    "from programs.parsing.string_to_program import string_to_program\n",
    "from prop_lang.parsing.string_to_ltl import string_to_ltl\n",
    "from programs.synthesis.synthesis import _notebook_setup\n",
    "from strix.strix_adapter import syfco_ltl, syfco_ltl_in, syfco_ltl_out"
   ]
  },
  {
   "cell_type": "code",
   "execution_count": 4,
   "id": "6aa3848b-3343-43d0-be7d-e57b3e6eb002",
   "metadata": {},
   "outputs": [],
   "source": [
    "# Todo: make FileUpload work\n",
    "# program_path = input().strip()\n",
    "program_path = \"examples/parallel/arbiter/program.prog\""
   ]
  },
  {
   "cell_type": "code",
   "execution_count": 5,
   "id": "25b37f99-df61-4ada-9b4f-c0fc312dbe94",
   "metadata": {},
   "outputs": [],
   "source": [
    "# Todo: make FileUpload work\n",
    "# tlsf_path = input().strip()\n",
    "tlsf_path = \"examples/parallel/arbiter/controller.tlsf\""
   ]
  },
  {
   "cell_type": "code",
   "execution_count": 6,
   "id": "78f4fc51-8619-455b-99e6-a96309cd5beb",
   "metadata": {
    "jupyter": {
     "source_hidden": true
    },
    "tags": []
   },
   "outputs": [],
   "source": [
    "# Example FileUpload code (not working right now)\n",
    "# uploader = ipywidgets.FileUpload(\n",
    "#     accept='',  # Accepted file extension e.g. '.txt', '.pdf', 'image/*', 'image/*,.pdf'\n",
    "#     multiple=False  # True to accept multiple files upload else False\n",
    "# )\n",
    "# display(uploader)"
   ]
  },
  {
   "cell_type": "code",
   "execution_count": 9,
   "id": "096d3414-506f-488e-98eb-767602bdd862",
   "metadata": {},
   "outputs": [
    {
     "name": "stdout",
     "output_type": "stream",
     "text": [
      "((G ((request) -> (F (grant)))) && (G ((grant) -> (allow_grant)))) [<prop_lang.variable.Variable object at 0x7f70a455bd90>, <prop_lang.variable.Variable object at 0x7f70b61a5960>] [<prop_lang.variable.Variable object at 0x7f70b61a5ba0>]\n"
     ]
    }
   ],
   "source": [
    "date_file = open(program_path, \"r\").read()\n",
    "date = string_to_program(date_file)\n",
    "x = _notebook_setup(date, None, tlsf_path, None)"
   ]
  },
  {
   "cell_type": "code",
   "execution_count": 10,
   "id": "b54fee06-55a6-4db2-864a-1b4cde619a21",
   "metadata": {},
   "outputs": [
    {
     "data": {
      "text/plain": [
       "({'q2': <programs.typed_valuation.TypedValuation at 0x7f70a455bd90>,\n",
       "  'q1': <programs.typed_valuation.TypedValuation at 0x7f70b61a6560>,\n",
       "  'q0': <programs.typed_valuation.TypedValuation at 0x7f70b61a77c0>,\n",
       "  'allow_grant': <programs.typed_valuation.TypedValuation at 0x7f70b61c7c70>,\n",
       "  'request': <programs.typed_valuation.TypedValuation at 0x7f70b61c7520>,\n",
       "  'grant': <programs.typed_valuation.TypedValuation at 0x7f70b61c5060>,\n",
       "  'cnt': <programs.typed_valuation.TypedValuation at 0x7f708d3531c0>},\n",
       " set(),\n",
       " [],\n",
       " <programs.analysis.nuxmv_model.NuXmvModel at 0x7f70b61c73d0>,\n",
       " [<prop_lang.variable.Variable at 0x7f708d353ee0>,\n",
       "  <prop_lang.variable.Variable at 0x7f70b61c7910>,\n",
       "  <prop_lang.variable.Variable at 0x7f70b61c4ca0>,\n",
       "  <prop_lang.variable.Variable at 0x7f70b61c71c0>],\n",
       " <prop_lang.biop.BiOp at 0x7f70b61c54e0>,\n",
       " [<prop_lang.variable.Variable at 0x7f70b61a5c00>,\n",
       "  <prop_lang.variable.Variable at 0x7f708d353ee0>,\n",
       "  'q2',\n",
       "  'q1',\n",
       "  'q0'],\n",
       " [<prop_lang.variable.Variable at 0x7f70b78c12a0>])"
      ]
     },
     "execution_count": 10,
     "metadata": {},
     "output_type": "execute_result"
    }
   ],
   "source": []
  },
  {
   "cell_type": "code",
   "execution_count": null,
   "id": "4420a94b-e0fc-4a31-a64f-5ee1c1fd44c3",
   "metadata": {},
   "outputs": [],
   "source": []
  }
 ],
 "metadata": {
  "kernelspec": {
   "display_name": "Python 3 (ipykernel)",
   "language": "python",
   "name": "python3"
  },
  "language_info": {
   "codemirror_mode": {
    "name": "ipython",
    "version": 3
   },
   "file_extension": ".py",
   "mimetype": "text/x-python",
   "name": "python",
   "nbconvert_exporter": "python",
   "pygments_lexer": "ipython3",
   "version": "3.10.4"
  }
 },
 "nbformat": 4,
 "nbformat_minor": 5
}
